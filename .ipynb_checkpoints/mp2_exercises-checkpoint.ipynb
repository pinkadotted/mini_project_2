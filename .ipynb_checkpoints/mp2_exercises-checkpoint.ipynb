{
 "cells": [
  {
   "cell_type": "markdown",
   "metadata": {},
   "source": [
    "# Mini Project: Sorting and Evaluating Math Expressions"
   ]
  },
  {
   "cell_type": "markdown",
   "metadata": {},
   "source": [
    "## Week 3"
   ]
  },
  {
   "cell_type": "markdown",
   "metadata": {},
   "source": [
    "**Q1.** *Mergesort:* Modify your `mergesort(array)` function that you did in your cohort session to take one additional argument called `byfunc`, i.e. `mergesort(array, byfunc)`. If the caller does not specify the value of `byfunc`, its default value is `None`. When this argument is `None`, the function `mergesort` behaves similar to your cohort session by sorting the array according to its values. However, when the value of this argument is not `None` but rather some other function, your `mergesort` function should sort the array according to the value returned by this function. \n",
    "\n",
    "For example, instead of sorting an array of integers, we want to sort an array of tupple.\n",
    "```python\n",
    "array = [(1, 2), (3, 2), (2, -1), (4, 7), (-1, -2)]\n",
    "```\n",
    "We can define a function say `select()` as follows:\n",
    "```python\n",
    "def select(item):\n",
    "    return item[0]\n",
    "```\n",
    "\n",
    "You can then should be able to call your `mergesort()` function in the following:\n",
    "```python\n",
    "mergesort(array, select)\n",
    "```\n",
    "which will sort the list of tuples according to the value of its *first* element (recall `item[0]` in `select()`). This means that if you want to sort based on the *second* element of the tuple, you can redefine select as:\n",
    "```python\n",
    "def select(item):\n",
    "    return item[1]\n",
    "```\n",
    "\n",
    "You can also apply this to a list of objects, say `User` class objects.\n",
    "```python\n",
    "array = [<User 1>, <User 2>, <User 3>, ..., <User 101>]\n",
    "```\n",
    "You can define the following `select()` function to sort according to its `username` attribute.\n",
    "```python\n",
    "def select(item):\n",
    "    return item.username\n",
    "```\n",
    "\n",
    "You can then call the `mergesort()` function as follows:\n",
    "```python\n",
    "mergesort(array, select)\n",
    "```\n",
    "\n",
    "Python allows you to write [lambda functions](https://realpython.com/python-lambda/) to replace your `select()` function definition. You can simply call merge sort with the following without defining `select()`.\n",
    "```python\n",
    "mergesort(array, lambda item: item.username)\n",
    "```"
   ]
  },
  {
   "cell_type": "code",
   "execution_count": 33,
   "metadata": {},
   "outputs": [],
   "source": [
    "def merge(array, p, q, r, byfunc):\n",
    "    len_left = q - p + 1\n",
    "    len_right = r - q\n",
    "    left_array = array[p:q+1]\n",
    "    right_array = array[q+1:r+1]\n",
    "    left_arrow = 0\n",
    "    right_arrow = 0\n",
    "    sort_pos = p\n",
    "    while left_arrow < len_left and right_arrow < len_right:\n",
    "        if byfunc(left_array[left_arrow]) <= byfunc(right_array[right_arrow]):\n",
    "            array[sort_pos] = left_array[left_arrow]\n",
    "            left_arrow += 1\n",
    "        else:\n",
    "            array[sort_pos] = right_array[right_arrow]\n",
    "            right_arrow += 1\n",
    "        sort_pos += 1\n",
    "        \n",
    "    while left_arrow < len_left:\n",
    "        array[sort_pos] = left_array[left_arrow]\n",
    "        left_arrow += 1\n",
    "        sort_pos += 1\n",
    "    while right_arrow < len_right:\n",
    "        array[sort_pos] = right_array[right_arrow]\n",
    "        right_arrow += 1\n",
    "        sort_pos += 1\n",
    "\n",
    "def mergesort_recursive(array, p, r, byfunc):\n",
    "    if r - p > 0:\n",
    "        q = (p + r) // 2\n",
    "        # left array\n",
    "        mergesort_recursive(array, p, q, byfunc)\n",
    "        # right array\n",
    "        mergesort_recursive(array, q + 1, r, byfunc)\n",
    "        merge(array, p, q, r, byfunc)\n",
    "\n",
    "def select_self(item):\n",
    "    return item\n",
    "              \n",
    "def mergesort(array, byfunc=None):\n",
    "    if byfunc == None:\n",
    "        byfunc = select_self\n",
    "    mergesort_recursive(array, 0, len(array)-1, byfunc)"
   ]
  },
  {
   "cell_type": "code",
   "execution_count": 34,
   "metadata": {},
   "outputs": [
    {
     "name": "stdout",
     "output_type": "stream",
     "text": [
      "[(-1, -2), (1, 2), (2, -1), (3, 2), (4, 7)]\n"
     ]
    }
   ],
   "source": [
    "array = [(1, 2), (3, 2), (2, -1), (4, 7), (-1, -2)]\n",
    "#mergesort(array, select)\n",
    "mergesort(array, lambda item: item[0])\n",
    "print(array)"
   ]
  },
  {
   "cell_type": "code",
   "execution_count": 35,
   "metadata": {},
   "outputs": [],
   "source": [
    "array = [(1, 2), (3, 2), (2, -1), (4, 7), (-1, -2)]\n",
    "mergesort(array, lambda item: item[0])\n",
    "assert array == [(-1, -2), (1, 2), (2, -1), (3, 2), (4, 7)]\n",
    "mergesort(array, lambda item: item[1])\n",
    "assert array == [(-1, -2), (2, -1), (1, 2), (3, 2), (4, 7)]"
   ]
  },
  {
   "cell_type": "markdown",
   "metadata": {},
   "source": [
    "**Q2.** Create a class called `EvaluateExpression` to evaluate mathematical expressions for Integers. The class has the following property:\n",
    "- `expression`: which is a property with a get and set method. The set method of this property should check if the string contains any invalid characters. If there is any invalid character, it should set the internal property `expr` to an empty String. Otherwise, it should set the string as it is. Valid characters are: `0123456789+-*/()` and an empty space.\n",
    "- `expr`: which is a property that stores only valid expression. It is used internally to store the expression.\n",
    "\n",
    "During object instantiation, a string can be passed on to `__init__()`.\n",
    "- `__init__(expr)`: where expr is the mathematical expression to initialize the property `expr`. If nothing is provided it should initialize to an empty String. If the string contains other characters besides those in the valid characters list above, the property `expr` should be initialized to an empty string.\n",
    "\n",
    "\n"
   ]
  },
  {
   "cell_type": "code",
   "execution_count": 7,
   "metadata": {},
   "outputs": [],
   "source": [
    "class EvaluateExpression:\n",
    "  valid_char = '0123456789+-*/() '\n",
    "  def __init__(self, string=\"\"):\n",
    "    self.string = string\n",
    "\n",
    "  @property\n",
    "  def expression(self):\n",
    "    return self.string\n",
    "\n",
    "  @expression.setter\n",
    "  def expression(self, new_expr):\n",
    "    for item in new_expr:\n",
    "        if item in self.valid_char:\n",
    "            self.string = new_expr\n",
    "        else:\n",
    "            self.string = ''\n",
    "            return \n",
    "  "
   ]
  },
  {
   "cell_type": "code",
   "execution_count": 8,
   "metadata": {},
   "outputs": [],
   "source": [
    "expr1 = EvaluateExpression()\n",
    "assert expr1.expression == \"\"\n",
    "expr2 = EvaluateExpression(\"1 + 2\")\n",
    "assert expr2.expression == \"1 + 2\"\n",
    "expr2.expression = \"3 * 4\"\n",
    "assert expr2.expression == \"3 * 4\"\n",
    "expr2.expression = \"3 & 4\"\n",
    "assert expr2.expression == \"\""
   ]
  },
  {
   "cell_type": "markdown",
   "metadata": {},
   "source": [
    "**Q3.** The class `EvaluateExpression` also has the following method:\n",
    "- `insert_space()`: which is used to insert one empty space before an operator and another empty space after the operator in the `expression` property. The function should return a new String. Note that this means that if there are two operators side by side, there will be two empty space between them.\n",
    "\n"
   ]
  },
  {
   "cell_type": "code",
   "execution_count": 43,
   "metadata": {},
   "outputs": [],
   "source": [
    "class EvaluateExpression:\n",
    "  # copy the other definitions\n",
    "  # from the previous parts\n",
    "  valid_char = '0123456789+-*/() '\n",
    "  def __init__(self, string=\"\"):\n",
    "    self.string = string\n",
    "\n",
    "  @property\n",
    "  def expression(self):\n",
    "    return self.string\n",
    "\n",
    "  @expression.setter\n",
    "  def expression(self, new_expr):\n",
    "    for item in new_expr:\n",
    "        if item in self.valid_char:\n",
    "            self.string = new_expr\n",
    "        else:\n",
    "            self.string = ''\n",
    "            return\n",
    "        \n",
    "  def insert_space(self):\n",
    "    new_str = ''\n",
    "    for item in self.string:\n",
    "        if item in '+-=*/()':\n",
    "            item = ' ' + item + ' '\n",
    "        new_str += item\n",
    "    return new_str"
   ]
  },
  {
   "cell_type": "code",
   "execution_count": 44,
   "metadata": {},
   "outputs": [
    {
     "data": {
      "text/plain": [
       "' ( 1 + 2 ) '"
      ]
     },
     "execution_count": 44,
     "metadata": {},
     "output_type": "execute_result"
    }
   ],
   "source": [
    "expr1 = EvaluateExpression(\"(1+2)\")\n",
    "expr1.insert_space()"
   ]
  },
  {
   "cell_type": "code",
   "execution_count": 45,
   "metadata": {},
   "outputs": [],
   "source": [
    "expr1 = EvaluateExpression(\"(1+2)\")\n",
    "assert expr1.insert_space() == \" ( 1 + 2 ) \"\n",
    "expr1.expression = \"((1+2)*3/(4-5))\"\n",
    "assert expr1.insert_space() == \" (  ( 1 + 2 )  * 3 /  ( 4 - 5 )  ) \"\n"
   ]
  },
  {
   "cell_type": "markdown",
   "metadata": {},
   "source": [
    "## Week 4"
   ]
  },
  {
   "cell_type": "markdown",
   "metadata": {},
   "source": [
    "**Q4.** The class `EvaluateExpression` also has the following methods:\n",
    "- `process_operator(operand_stack, operator_stack)`: which process one operator. This method should modify the Stacks provided in the arguments. Note that the division operator `/` should be considered as an integer division for this exercise. This means that you need to use `//` in Python."
   ]
  },
  {
   "cell_type": "code",
   "execution_count": 89,
   "metadata": {},
   "outputs": [],
   "source": [
    "class Stack:\n",
    "    def __init__(self):\n",
    "        self.__items = []\n",
    "        \n",
    "    def push(self, item):\n",
    "        self.__items.append(item)\n",
    "\n",
    "    def pop(self):\n",
    "        if len(self.__items) != 0:\n",
    "            return self.__items.pop()\n",
    "        else:\n",
    "            return None\n",
    "\n",
    "    def peek(self):\n",
    "        if len(self.__items) != 0:\n",
    "            return self.__items[-1]\n",
    "        else:\n",
    "            return None\n",
    "\n",
    "    @property\n",
    "    def is_empty(self):\n",
    "        return len(self.__items) == 0\n",
    "\n",
    "    @property\n",
    "    def size(self):\n",
    "        return len(self.__items)\n"
   ]
  },
  {
   "cell_type": "code",
   "execution_count": 195,
   "metadata": {},
   "outputs": [],
   "source": [
    "class EvaluateExpression:\n",
    "  # copy the other definitions\n",
    "  # from the previous parts\n",
    "  valid_char = '0123456789+-*/() '\n",
    "  def __init__(self, string=\"\"):\n",
    "    self.string = string\n",
    "\n",
    "  @property\n",
    "  def expression(self):\n",
    "    return self.string\n",
    "\n",
    "  @expression.setter\n",
    "  def expression(self, new_expr):\n",
    "    for item in new_expr:\n",
    "        if item in self.valid_char:\n",
    "            self.string = new_expr\n",
    "        else:\n",
    "            self.string = ''\n",
    "            return\n",
    "        \n",
    "  def insert_space(self):\n",
    "    new_str = ''\n",
    "    for item in self.string:\n",
    "        if item in '+-=*/()':\n",
    "            item = ' ' + item + ' '\n",
    "        new_str += item\n",
    "    return new_str\n",
    "\n",
    "\n",
    "#   def process_operator(self, operand_stack, operator_stack):\n",
    "#     right = operand_stack.pop()\n",
    "#     left = operand_stack.pop()\n",
    "#     operator = operator_stack.pop()\n",
    "#     if operator == '+':\n",
    "#         operand_stack.push(left + right)\n",
    "#     elif operator == '-':\n",
    "#         operand_stack.push(left - right)\n",
    "#     elif operator == '*':\n",
    "#         operand_stack.push(left * right)\n",
    "#     elif operator == '/':\n",
    "#         operand_stack.push(left // right)\n",
    "\n",
    "  def process_operator(self, operand_stack, operator_stack):\n",
    "        operator = operator_stack.pop()\n",
    "        if operand_stack.size == 0:\n",
    "            operator_stack.push(operator)\n",
    "        elif operand_stack.size == 1:\n",
    "            operator_stack.push(operator)\n",
    "        elif operand_stack.size > 1:\n",
    "            right = operand_stack.pop()\n",
    "            left = operand_stack.pop()\n",
    "\n",
    "            if operator == '+':\n",
    "                operand_stack.push(left + right)\n",
    "            elif operator == '-':\n",
    "                operand_stack.push(left - right)\n",
    "            elif operator == '*':\n",
    "                operand_stack.push(left * right)\n",
    "            elif operator == '/':\n",
    "                operand_stack.push(left // right)"
   ]
  },
  {
   "cell_type": "code",
   "execution_count": 196,
   "metadata": {},
   "outputs": [
    {
     "name": "stdout",
     "output_type": "stream",
     "text": [
      "None\n"
     ]
    },
    {
     "data": {
      "text/plain": [
       "7"
      ]
     },
     "execution_count": 196,
     "metadata": {},
     "output_type": "execute_result"
    }
   ],
   "source": [
    "expr1 = EvaluateExpression()\n",
    "operand_stack = Stack()\n",
    "operator_stack = Stack()\n",
    "operand_stack.push(3)\n",
    "operand_stack.push(4)\n",
    "operator_stack.push(\"+\")\n",
    "expr1.process_operator(operand_stack, operator_stack)\n",
    "print(operator_stack.pop())\n",
    "operand_stack.peek()"
   ]
  },
  {
   "cell_type": "code",
   "execution_count": 197,
   "metadata": {},
   "outputs": [],
   "source": [
    "expr1 = EvaluateExpression()\n",
    "operand_stack = Stack()\n",
    "operator_stack = Stack()\n",
    "operand_stack.push(3)\n",
    "operand_stack.push(4)\n",
    "operator_stack.push(\"+\")\n",
    "expr1.process_operator(operand_stack, operator_stack)\n",
    "assert operand_stack.peek() == 7\n",
    "operand_stack.push(5)\n",
    "operator_stack.push(\"*\")\n",
    "expr1.process_operator(operand_stack, operator_stack)\n",
    "assert operand_stack.peek() == 35\n",
    "operand_stack.push(30)\n",
    "operator_stack.push(\"-\")\n",
    "expr1.process_operator(operand_stack, operator_stack)\n",
    "assert operand_stack.peek() == 5\n",
    "operand_stack.push(2)\n",
    "operator_stack.push(\"/\")\n",
    "expr1.process_operator(operand_stack, operator_stack)\n",
    "assert operand_stack.peek() == 2"
   ]
  },
  {
   "cell_type": "markdown",
   "metadata": {},
   "source": [
    "**Q5.** The class `EvaluateExpression` also has the following methods:\n",
    "- `evaluate()`: which evaluate the mathematical expression contained in the property `expression`. The method should return an Integer. This method contains two processes:\n",
    "    - Phase 1: In this phase, the code scans the expression from left to right to extract operands, operators, and the parentheses.\n",
    "        1. If the extracted character is an operand, push it to `operand_stack`.\n",
    "        1. If the extracted character is + or - operator, process  all the operators at the top of the `operator_stack` and push the extracted operator to `operator_stack`. You should process all the operators as long as the `operator_stack` is not empty and the top of the `operator_stack` is not `(` or `)` symbols.\n",
    "        1. If the extracted character is a `*` or `/` operator, process all the `*` or `/` operators at the top of the `operator_stack` and push the extracted operator to `operator_stack`. \n",
    "        1. If the extracted character is a `(` symbol, push it to `operator_stack`.\n",
    "        1. If the extracted character is a `)` symbol, repeatedly process the operators from the top of `operator_stack` until seeing the `(` symbol on the stack. \n",
    "    - Phase 2: Repeatedly process the operators from the top of `operator_stack` until `operator_stack` is empty.\n"
   ]
  },
  {
   "cell_type": "code",
   "execution_count": 234,
   "metadata": {},
   "outputs": [],
   "source": [
    "class EvaluateExpression:\n",
    "  # copy the other definitions\n",
    "  # from the previous parts\n",
    "  valid_char = '0123456789+-*/() '\n",
    "  def __init__(self, string=\"\"):\n",
    "    self.string = string\n",
    "\n",
    "  @property\n",
    "  def expression(self):\n",
    "    return self.string\n",
    "\n",
    "  @expression.setter\n",
    "  def expression(self, new_expr):\n",
    "    for item in new_expr:\n",
    "        if item in self.valid_char:\n",
    "            self.string = new_expr\n",
    "        else:\n",
    "            self.string = ''\n",
    "            return\n",
    "        \n",
    "  def insert_space(self):\n",
    "    new_str = ''\n",
    "    for item in self.string:\n",
    "        if item in '+-=*/()':\n",
    "            item = ' ' + item + ' '\n",
    "        new_str += item\n",
    "    return new_str\n",
    "\n",
    "  def process_operator(self, operand_stack, operator_stack):\n",
    "        if operand_stack.size == 0:\n",
    "            return 0\n",
    "        elif operand_stack.size == 1:\n",
    "            return operand_stack.pop()\n",
    "        elif operand_stack.size > 1:\n",
    "            right = operand_stack.pop()\n",
    "            left = operand_stack.pop()\n",
    "            operator = operator_stack.pop()\n",
    "            if operator == '+':\n",
    "                operand_stack.push(left + right)\n",
    "            elif operator == '-':\n",
    "                operand_stack.push(left - right)\n",
    "            elif operator == '*':\n",
    "                operand_stack.push(left * right)\n",
    "            elif operator == '/':\n",
    "                operand_stack.push(left // right)\n",
    "        \n",
    "        \n",
    "  def evaluate(self):\n",
    "    operand_stack = Stack()\n",
    "    operator_stack = Stack()\n",
    "    expression = self.insert_space()\n",
    "    print(expression)\n",
    "    tokens = expression.split()\n",
    "    print(tokens)\n",
    "    for token in tokens:\n",
    "        if token == '(':\n",
    "            operator_stack.push(token)\n",
    "        elif token in '0123456789':\n",
    "            operand_stack.push(int(token))\n",
    "        elif token == '+' or token == '-':\n",
    "            while operator_stack.size != 0 and operator_stack.peek() != ')' and operator_stack.peek() != '(':\n",
    "                self.process_operator(operand_stack, operator_stack)\n",
    "            operator_stack.push(token)\n",
    "        elif token == '*' or token == '/':\n",
    "            while operator_stack.peek() == '*' or operator_stack.peek() == '/':\n",
    "                self.process_operator(operand_stack, operand_stack)\n",
    "            operator_stack.push(token)\n",
    "        elif token == ')':\n",
    "            while operator_stack.peek() != '(':\n",
    "                self.process_operator(operand_stack, operator_stack)\n",
    "            else:\n",
    "                operator_stack.pop()\n",
    "    while operator_stack.size != 0:\n",
    "        self.process_operator(operand_stack, operator_stack)\n",
    "    print('hi', operand_stack.peek())\n",
    "    return operand_stack.pop()"
   ]
  },
  {
   "cell_type": "code",
   "execution_count": 235,
   "metadata": {},
   "outputs": [
    {
     "name": "stdout",
     "output_type": "stream",
     "text": [
      " ( 1 + 2 )  * 3\n",
      "['(', '1', '+', '2', ')', '*', '3']\n",
      "hi 9\n",
      " ( 1  +  2 )   *  4  -  3\n",
      "['(', '1', '+', '2', ')', '*', '4', '-', '3']\n",
      "hi 9\n"
     ]
    }
   ],
   "source": [
    "expr1 = EvaluateExpression(\"(1+2)*3\")\n",
    "assert expr1.evaluate() == 9\n",
    "expr1.expression = \"(1 + 2) * 4 - 3\"\n",
    "assert expr1.evaluate() == 9\n",
    "expr2 = EvaluateExpression(\"(1+2 *4-  3)* (7/5 * 6)\")"
   ]
  },
  {
   "cell_type": "code",
   "execution_count": 233,
   "metadata": {},
   "outputs": [
    {
     "name": "stdout",
     "output_type": "stream",
     "text": [
      " ( 1 + 2 )  * 3\n",
      "hi 9\n",
      " ( 1  +  2 )   *  4  -  3\n",
      "hi 9\n",
      " ( 1 + 2  * 4 -   3 )  *   ( 7 / 5  *  6 ) \n"
     ]
    },
    {
     "ename": "KeyboardInterrupt",
     "evalue": "",
     "output_type": "error",
     "traceback": [
      "\u001b[1;31m---------------------------------------------------------------------------\u001b[0m",
      "\u001b[1;31mKeyboardInterrupt\u001b[0m                         Traceback (most recent call last)",
      "\u001b[1;32m<ipython-input-233-c6dfaa5ba999>\u001b[0m in \u001b[0;36m<module>\u001b[1;34m\u001b[0m\n\u001b[0;32m      4\u001b[0m \u001b[1;32massert\u001b[0m \u001b[0mexpr1\u001b[0m\u001b[1;33m.\u001b[0m\u001b[0mevaluate\u001b[0m\u001b[1;33m(\u001b[0m\u001b[1;33m)\u001b[0m \u001b[1;33m==\u001b[0m \u001b[1;36m9\u001b[0m\u001b[1;33m\u001b[0m\u001b[1;33m\u001b[0m\u001b[0m\n\u001b[0;32m      5\u001b[0m \u001b[0mexpr2\u001b[0m \u001b[1;33m=\u001b[0m \u001b[0mEvaluateExpression\u001b[0m\u001b[1;33m(\u001b[0m\u001b[1;34m\"(1+2 *4-  3)* (7/5 * 6)\"\u001b[0m\u001b[1;33m)\u001b[0m\u001b[1;33m\u001b[0m\u001b[1;33m\u001b[0m\u001b[0m\n\u001b[1;32m----> 6\u001b[1;33m \u001b[1;32massert\u001b[0m \u001b[0mexpr2\u001b[0m\u001b[1;33m.\u001b[0m\u001b[0mevaluate\u001b[0m\u001b[1;33m(\u001b[0m\u001b[1;33m)\u001b[0m \u001b[1;33m==\u001b[0m \u001b[1;36m36\u001b[0m\u001b[1;33m\u001b[0m\u001b[1;33m\u001b[0m\u001b[0m\n\u001b[0m",
      "\u001b[1;32m<ipython-input-231-83017501a901>\u001b[0m in \u001b[0;36mevaluate\u001b[1;34m(self)\u001b[0m\n\u001b[0;32m     62\u001b[0m             \u001b[0moperator_stack\u001b[0m\u001b[1;33m.\u001b[0m\u001b[0mpush\u001b[0m\u001b[1;33m(\u001b[0m\u001b[0mtoken\u001b[0m\u001b[1;33m)\u001b[0m\u001b[1;33m\u001b[0m\u001b[1;33m\u001b[0m\u001b[0m\n\u001b[0;32m     63\u001b[0m         \u001b[1;32melif\u001b[0m \u001b[0mtoken\u001b[0m \u001b[1;33m==\u001b[0m \u001b[1;34m'*'\u001b[0m \u001b[1;32mor\u001b[0m \u001b[0mtoken\u001b[0m \u001b[1;33m==\u001b[0m \u001b[1;34m'/'\u001b[0m\u001b[1;33m:\u001b[0m\u001b[1;33m\u001b[0m\u001b[1;33m\u001b[0m\u001b[0m\n\u001b[1;32m---> 64\u001b[1;33m             \u001b[1;32mwhile\u001b[0m \u001b[0moperator_stack\u001b[0m\u001b[1;33m.\u001b[0m\u001b[0mpeek\u001b[0m\u001b[1;33m(\u001b[0m\u001b[1;33m)\u001b[0m \u001b[1;33m==\u001b[0m \u001b[1;34m'*'\u001b[0m \u001b[1;32mor\u001b[0m \u001b[0moperator_stack\u001b[0m\u001b[1;33m.\u001b[0m\u001b[0mpeek\u001b[0m\u001b[1;33m(\u001b[0m\u001b[1;33m)\u001b[0m \u001b[1;33m==\u001b[0m \u001b[1;34m'/'\u001b[0m\u001b[1;33m:\u001b[0m\u001b[1;33m\u001b[0m\u001b[1;33m\u001b[0m\u001b[0m\n\u001b[0m\u001b[0;32m     65\u001b[0m                 \u001b[0mself\u001b[0m\u001b[1;33m.\u001b[0m\u001b[0mprocess_operator\u001b[0m\u001b[1;33m(\u001b[0m\u001b[0moperand_stack\u001b[0m\u001b[1;33m,\u001b[0m \u001b[0moperand_stack\u001b[0m\u001b[1;33m)\u001b[0m\u001b[1;33m\u001b[0m\u001b[1;33m\u001b[0m\u001b[0m\n\u001b[0;32m     66\u001b[0m             \u001b[0moperator_stack\u001b[0m\u001b[1;33m.\u001b[0m\u001b[0mpush\u001b[0m\u001b[1;33m(\u001b[0m\u001b[0mtoken\u001b[0m\u001b[1;33m)\u001b[0m\u001b[1;33m\u001b[0m\u001b[1;33m\u001b[0m\u001b[0m\n",
      "\u001b[1;32m<ipython-input-89-bdd152fc7e15>\u001b[0m in \u001b[0;36mpeek\u001b[1;34m(self)\u001b[0m\n\u001b[0;32m     14\u001b[0m     \u001b[1;32mdef\u001b[0m \u001b[0mpeek\u001b[0m\u001b[1;33m(\u001b[0m\u001b[0mself\u001b[0m\u001b[1;33m)\u001b[0m\u001b[1;33m:\u001b[0m\u001b[1;33m\u001b[0m\u001b[1;33m\u001b[0m\u001b[0m\n\u001b[0;32m     15\u001b[0m         \u001b[1;32mif\u001b[0m \u001b[0mlen\u001b[0m\u001b[1;33m(\u001b[0m\u001b[0mself\u001b[0m\u001b[1;33m.\u001b[0m\u001b[0m__items\u001b[0m\u001b[1;33m)\u001b[0m \u001b[1;33m!=\u001b[0m \u001b[1;36m0\u001b[0m\u001b[1;33m:\u001b[0m\u001b[1;33m\u001b[0m\u001b[1;33m\u001b[0m\u001b[0m\n\u001b[1;32m---> 16\u001b[1;33m             \u001b[1;32mreturn\u001b[0m \u001b[0mself\u001b[0m\u001b[1;33m.\u001b[0m\u001b[0m__items\u001b[0m\u001b[1;33m[\u001b[0m\u001b[1;33m-\u001b[0m\u001b[1;36m1\u001b[0m\u001b[1;33m]\u001b[0m\u001b[1;33m\u001b[0m\u001b[1;33m\u001b[0m\u001b[0m\n\u001b[0m\u001b[0;32m     17\u001b[0m         \u001b[1;32melse\u001b[0m\u001b[1;33m:\u001b[0m\u001b[1;33m\u001b[0m\u001b[1;33m\u001b[0m\u001b[0m\n\u001b[0;32m     18\u001b[0m             \u001b[1;32mreturn\u001b[0m \u001b[1;32mNone\u001b[0m\u001b[1;33m\u001b[0m\u001b[1;33m\u001b[0m\u001b[0m\n",
      "\u001b[1;31mKeyboardInterrupt\u001b[0m: "
     ]
    }
   ],
   "source": [
    "expr1 = EvaluateExpression(\"(1+2)*3\")\n",
    "assert expr1.evaluate() == 9\n",
    "expr1.expression = \"(1 + 2) * 4 - 3\"\n",
    "assert expr1.evaluate() == 9\n",
    "expr2 = EvaluateExpression(\"(1+2 *4-  3)* (7/5 * 6)\")\n",
    "assert expr2.evaluate() == 36"
   ]
  },
  {
   "cell_type": "code",
   "execution_count": 236,
   "metadata": {},
   "outputs": [
    {
     "name": "stdout",
     "output_type": "stream",
     "text": [
      "True\n"
     ]
    }
   ],
   "source": []
  },
  {
   "cell_type": "code",
   "execution_count": null,
   "metadata": {},
   "outputs": [],
   "source": []
  }
 ],
 "metadata": {
  "kernelspec": {
   "display_name": "Python 3",
   "language": "python",
   "name": "python3"
  },
  "language_info": {
   "codemirror_mode": {
    "name": "ipython",
    "version": 3
   },
   "file_extension": ".py",
   "mimetype": "text/x-python",
   "name": "python",
   "nbconvert_exporter": "python",
   "pygments_lexer": "ipython3",
   "version": "3.8.3"
  }
 },
 "nbformat": 4,
 "nbformat_minor": 4
}
